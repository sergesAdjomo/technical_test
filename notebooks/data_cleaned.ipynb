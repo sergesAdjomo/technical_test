{
 "cells": [
  {
   "cell_type": "code",
   "execution_count": 4,
   "metadata": {},
   "outputs": [],
   "source": [
    "import pandas as pd\n",
    "import numpy as np\n",
    "import matplotlib.pyplot as plt\n",
    "import seaborn as sns\n",
    "from datetime import datetime\n",
    "import warnings\n",
    "warnings.filterwarnings('ignore') # Ignore warnings when running the code\n",
    "\n",
    "# Chargement des données\n",
    "opportunities = pd.read_csv('../data_sources/raw/opportunity_test.csv')\n",
    "propositions = pd.read_csv('../data_sources/raw/propositions_test.csv')\n",
    "banques = pd.read_csv('../data_sources/raw/banques_test.csv')"
   ]
  },
  {
   "cell_type": "code",
   "execution_count": 5,
   "metadata": {},
   "outputs": [
    {
     "name": "stdout",
     "output_type": "stream",
     "text": [
      "=== Analyse du fichier banques ===\n",
      "\n",
      "Structure du fichier banques :\n",
      "<class 'pandas.core.frame.DataFrame'>\n",
      "RangeIndex: 2881 entries, 0 to 2880\n",
      "Data columns (total 3 columns):\n",
      " #   Column       Non-Null Count  Dtype \n",
      "---  ------       --------------  ----- \n",
      " 0   Id           2881 non-null   object\n",
      " 1   CreatedDate  2881 non-null   object\n",
      " 2   Name         2881 non-null   object\n",
      "dtypes: object(3)\n",
      "memory usage: 67.7+ KB\n",
      "None\n",
      "\n",
      "Aperçu des premières lignes :\n",
      "                   Id          CreatedDate                           Name\n",
      "0  0011i000002MVpNAAW  2018-10-05 10:50:32                          CFCAL\n",
      "1  0011i000002MVu7AAG  2018-10-05 10:59:31                          CFCAL\n",
      "2  0011i000002MWCHAA4  2018-10-05 11:24:29                          CFCAL\n",
      "3  0011i000003PFlRAAW  2018-10-29 15:18:49  CREDIT DU NORD NORD DE FRANCE\n",
      "4  0011i000003PFtzAAG  2018-10-29 15:30:39  CREDIT DU NORD NORD DE FRANCE\n",
      "\n",
      "Valeurs manquantes :\n",
      "Id             0\n",
      "CreatedDate    0\n",
      "Name           0\n",
      "dtype: int64\n"
     ]
    }
   ],
   "source": [
    "# Exploration rapide des fichiers banques et propositions\n",
    "print(\"=== Analyse du fichier banques ===\")\n",
    "print(\"\\nStructure du fichier banques :\")\n",
    "print(banques.info())\n",
    "print(\"\\nAperçu des premières lignes :\")\n",
    "print(banques.head())\n",
    "print(\"\\nValeurs manquantes :\")\n",
    "print(banques.isnull().sum())\n"
   ]
  },
  {
   "cell_type": "code",
   "execution_count": 6,
   "metadata": {},
   "outputs": [
    {
     "name": "stdout",
     "output_type": "stream",
     "text": [
      "\n",
      "=== Analyse du fichier propositions ===\n",
      "\n",
      "Structure du fichier propositions :\n",
      "<class 'pandas.core.frame.DataFrame'>\n",
      "RangeIndex: 53458 entries, 0 to 53457\n",
      "Data columns (total 8 columns):\n",
      " #   Column             Non-Null Count  Dtype  \n",
      "---  ------             --------------  -----  \n",
      " 0   Id                 53458 non-null  object \n",
      " 1   CreatedDate        53458 non-null  object \n",
      " 2   Opportunity__c     53458 non-null  object \n",
      " 3   Partenaire__c      52891 non-null  object \n",
      " 4   TXHA__c            53243 non-null  float64\n",
      " 5   DureePret_Mois__c  53269 non-null  float64\n",
      " 6   TauxAss__c         53263 non-null  float64\n",
      " 7   Etape_Source__c    53458 non-null  object \n",
      "dtypes: float64(3), object(5)\n",
      "memory usage: 3.3+ MB\n",
      "None\n",
      "\n",
      "Statistiques descriptives des colonnes numériques :\n",
      "            TXHA__c  DureePret_Mois__c    TauxAss__c\n",
      "count  53243.000000       53269.000000  53263.000000\n",
      "mean       3.968626         265.802305      0.249580\n",
      "std        1.548539          40.776199      0.301356\n",
      "min        0.000000          12.000000      0.000000\n",
      "25%        4.100000         240.000000      0.000000\n",
      "50%        4.400000         276.000000      0.260000\n",
      "75%        4.600000         300.000000      0.370000\n",
      "max      100.000000        3000.000000     50.000000\n",
      "\n",
      "Valeurs manquantes :\n",
      "Id                     0\n",
      "CreatedDate            0\n",
      "Opportunity__c         0\n",
      "Partenaire__c        567\n",
      "TXHA__c              215\n",
      "DureePret_Mois__c    189\n",
      "TauxAss__c           195\n",
      "Etape_Source__c        0\n",
      "dtype: int64\n"
     ]
    }
   ],
   "source": [
    "print(\"\\n=== Analyse du fichier propositions ===\")\n",
    "print(\"\\nStructure du fichier propositions :\")\n",
    "print(propositions.info())\n",
    "print(\"\\nStatistiques descriptives des colonnes numériques :\")\n",
    "print(propositions[['TXHA__c', 'DureePret_Mois__c', 'TauxAss__c']].describe())\n",
    "print(\"\\nValeurs manquantes :\")\n",
    "print(propositions.isnull().sum())\n"
   ]
  },
  {
   "cell_type": "code",
   "execution_count": 7,
   "metadata": {},
   "outputs": [
    {
     "name": "stdout",
     "output_type": "stream",
     "text": [
      "\n",
      "Valeurs extrêmes dans les propositions :\n",
      "\n",
      "Taux d'intérêt (TXHA__c) min/max :\n",
      "min      0.0\n",
      "max    100.0\n",
      "Name: TXHA__c, dtype: float64\n",
      "\n",
      "Durée de prêt (mois) min/max :\n",
      "min      12.0\n",
      "max    3000.0\n",
      "Name: DureePret_Mois__c, dtype: float64\n",
      "\n",
      "Taux d'assurance min/max :\n",
      "min     0.0\n",
      "max    50.0\n",
      "Name: TauxAss__c, dtype: float64\n"
     ]
    }
   ],
   "source": [
    "\n",
    "# Vérification des valeurs potentiellement aberrantes\n",
    "print(\"\\nValeurs extrêmes dans les propositions :\")\n",
    "print(\"\\nTaux d'intérêt (TXHA__c) min/max :\")\n",
    "print(propositions['TXHA__c'].agg(['min', 'max']))\n",
    "print(\"\\nDurée de prêt (mois) min/max :\")\n",
    "print(propositions['DureePret_Mois__c'].agg(['min', 'max']))\n",
    "print(\"\\nTaux d'assurance min/max :\")\n",
    "print(propositions['TauxAss__c'].agg(['min', 'max']))"
   ]
  },
  {
   "cell_type": "code",
   "execution_count": null,
   "metadata": {},
   "outputs": [
    {
     "name": "stdout",
     "output_type": "stream",
     "text": [
      "Nettoyage terminé ! Les fichiers ont été exportés dans : data_sources/gold\n"
     ]
    }
   ],
   "source": [
    "import os\n",
    "\n",
    "# Création du dossier gold s'il n'existe pas\n",
    "cleaned_data_path = '../data_sources/gold'\n",
    "if not os.path.exists(cleaned_data_path):\n",
    "    os.makedirs(cleaned_data_path)\n",
    "\n",
    "# 1. Nettoyage des opportunités\n",
    "opportunities_clean = opportunities.copy()\n",
    "age_mask = (opportunities_clean['Age_emprunteur__c'] >= 18) & \\\n",
    "           (opportunities_clean['Age_emprunteur__c'] <= 100)\n",
    "revenue_mask = (opportunities_clean['TotRev__c'] > 0) & \\\n",
    "               (opportunities_clean['TotRev__c'] <= 20000)\n",
    "opportunities_clean = opportunities_clean[age_mask & revenue_mask]\n",
    "\n",
    "# 2. Nettoyage des propositions\n",
    "propositions_clean = propositions.copy()\n",
    "proposition_masks = (\n",
    "    (propositions_clean['TXHA__c'] >= 0.1) & \n",
    "    (propositions_clean['TXHA__c'] <= 15) &\n",
    "    (propositions_clean['DureePret_Mois__c'] >= 12) & \n",
    "    (propositions_clean['DureePret_Mois__c'] <= 360) &\n",
    "    (propositions_clean['TauxAss__c'] >= 0) & \n",
    "    (propositions_clean['TauxAss__c'] <= 1) &\n",
    "    propositions_clean['Partenaire__c'].notna()\n",
    ")\n",
    "propositions_clean = propositions_clean[proposition_masks]\n",
    "\n",
    "# 3. Nettoyage des banques\n",
    "banques_clean = banques.drop_duplicates(subset=['Name'], keep='first')\n",
    "\n",
    "# 4. Maintien de la cohérence entre les fichiers\n",
    "propositions_clean = propositions_clean[\n",
    "    propositions_clean['Opportunity__c'].isin(opportunities_clean['Id']) &\n",
    "    propositions_clean['Partenaire__c'].isin(banques_clean['Id'])\n",
    "]\n",
    "\n",
    "# Export des fichiers nettoyés\n",
    "opportunities_clean.to_csv(f'{cleaned_data_path}/opportunities_cleaned.csv', index=False)\n",
    "propositions_clean.to_csv(f'{cleaned_data_path}/propositions_cleaned.csv', index=False)\n",
    "banques_clean.to_csv(f'{cleaned_data_path}/banques_cleaned.csv', index=False)\n",
    "\n",
    "print(\"Nettoyage terminé ! Les fichiers ont été exportés dans :\", cleaned_data_path)"
   ]
  }
 ],
 "metadata": {
  "kernelspec": {
   "display_name": "base",
   "language": "python",
   "name": "python3"
  },
  "language_info": {
   "codemirror_mode": {
    "name": "ipython",
    "version": 3
   },
   "file_extension": ".py",
   "mimetype": "text/x-python",
   "name": "python",
   "nbconvert_exporter": "python",
   "pygments_lexer": "ipython3",
   "version": "3.11.5"
  }
 },
 "nbformat": 4,
 "nbformat_minor": 2
}
